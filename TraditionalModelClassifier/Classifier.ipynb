{
 "metadata": {
  "kernelspec": {
   "language": "python",
   "display_name": "Python 3",
   "name": "python3"
  },
  "language_info": {
   "name": "python",
   "version": "3.10.13",
   "mimetype": "text/x-python",
   "codemirror_mode": {
    "name": "ipython",
    "version": 3
   },
   "pygments_lexer": "ipython3",
   "nbconvert_exporter": "python",
   "file_extension": ".py"
  },
  "kaggle": {
   "accelerator": "none",
   "dataSources": [
    {
     "sourceId": 61542,
     "databundleVersionId": 7516023,
     "sourceType": "competition"
    },
    {
     "sourceId": 6977472,
     "sourceType": "datasetVersion",
     "datasetId": 4005256
    },
    {
     "sourceId": 7409832,
     "sourceType": "datasetVersion",
     "datasetId": 4309752
    }
   ],
   "dockerImageVersionId": 30699,
   "isInternetEnabled": true,
   "language": "python",
   "sourceType": "notebook",
   "isGpuEnabled": false
  }
 },
 "nbformat_minor": 4,
 "nbformat": 4,
 "cells": [
  {
   "cell_type": "code",
   "source": [
    "import pandas as pd\n",
    "import numpy as np\n",
    "import matplotlib.pyplot as plt\n",
    "import seaborn as sns\n",
    "from sklearn.model_selection import train_test_split, cross_validate, cross_val_predict\n",
    "from sklearn.metrics import (\n",
    "    confusion_matrix,\n",
    "    classification_report,\n",
    "    \n",
    ")\n",
    "from sklearn.feature_extraction.text import TfidfVectorizer, CountVectorizer\n",
    "from sklearn.preprocessing import LabelBinarizer, OneHotEncoder\n",
    "from sklearn.linear_model import LogisticRegression\n",
    "from sklearn.tree import DecisionTreeClassifier, plot_tree\n",
    "from sklearn.ensemble import RandomForestClassifier\n",
    "from sklearn import svm"
   ],
   "metadata": {
    "execution": {
     "iopub.status.busy": "2024-05-25T11:47:23.701678Z",
     "iopub.execute_input": "2024-05-25T11:47:23.702149Z",
     "iopub.status.idle": "2024-05-25T11:47:27.211837Z",
     "shell.execute_reply.started": "2024-05-25T11:47:23.702116Z",
     "shell.execute_reply": "2024-05-25T11:47:27.210472Z"
    },
    "trusted": true
   },
   "execution_count": 3,
   "outputs": []
  },
  {
   "cell_type": "markdown",
   "source": [
    "## 1 文字前處理\n",
    "以daigt-v2-train-dataset做分類檢測(用測試集得到的準確率太高，我拿其他資料檢測該模型，該模型的確有過擬合，所以此資料集的模型暫且只能算參考)"
   ],
   "metadata": {}
  },
  {
   "cell_type": "code",
   "source": "v2=pd.read_csv('/kaggle/input/daigt-v2-train-dataset/train_v2_drcat_02.csv')\nv2.head(3)",
   "metadata": {
    "execution": {
     "iopub.status.busy": "2024-05-25T08:18:04.049079Z",
     "iopub.execute_input": "2024-05-25T08:18:04.050061Z",
     "iopub.status.idle": "2024-05-25T08:18:05.431713Z",
     "shell.execute_reply.started": "2024-05-25T08:18:04.050013Z",
     "shell.execute_reply": "2024-05-25T08:18:05.430182Z"
    },
    "trusted": true
   },
   "execution_count": 10,
   "outputs": [
    {
     "execution_count": 10,
     "output_type": "execute_result",
     "data": {
      "text/plain": "                                                text  label  \\\n0  Phones\\n\\nModern humans today are always on th...      0   \n1  This essay will explain if drivers should or s...      0   \n2  Driving while the use of cellular devices\\n\\nT...      0   \n\n          prompt_name           source  RDizzl3_seven  \n0  Phones and driving  persuade_corpus          False  \n1  Phones and driving  persuade_corpus          False  \n2  Phones and driving  persuade_corpus          False  ",
      "text/html": "<div>\n<style scoped>\n    .dataframe tbody tr th:only-of-type {\n        vertical-align: middle;\n    }\n\n    .dataframe tbody tr th {\n        vertical-align: top;\n    }\n\n    .dataframe thead th {\n        text-align: right;\n    }\n</style>\n<table border=\"1\" class=\"dataframe\">\n  <thead>\n    <tr style=\"text-align: right;\">\n      <th></th>\n      <th>text</th>\n      <th>label</th>\n      <th>prompt_name</th>\n      <th>source</th>\n      <th>RDizzl3_seven</th>\n    </tr>\n  </thead>\n  <tbody>\n    <tr>\n      <th>0</th>\n      <td>Phones\\n\\nModern humans today are always on th...</td>\n      <td>0</td>\n      <td>Phones and driving</td>\n      <td>persuade_corpus</td>\n      <td>False</td>\n    </tr>\n    <tr>\n      <th>1</th>\n      <td>This essay will explain if drivers should or s...</td>\n      <td>0</td>\n      <td>Phones and driving</td>\n      <td>persuade_corpus</td>\n      <td>False</td>\n    </tr>\n    <tr>\n      <th>2</th>\n      <td>Driving while the use of cellular devices\\n\\nT...</td>\n      <td>0</td>\n      <td>Phones and driving</td>\n      <td>persuade_corpus</td>\n      <td>False</td>\n    </tr>\n  </tbody>\n</table>\n</div>"
     },
     "metadata": {}
    }
   ]
  },
  {
   "cell_type": "code",
   "source": "# 看看有幾篇文章\nprint(f\"number of posts: {v2.shape[0]}\")\n# 1 for AI generated, 0 for human\nprint(f\"category: \\n{v2['label'].value_counts()}\")\nprint(f\"category: \\n{v2['source'].value_counts()}\")",
   "metadata": {
    "execution": {
     "iopub.status.busy": "2024-05-25T08:18:22.636227Z",
     "iopub.execute_input": "2024-05-25T08:18:22.636694Z",
     "iopub.status.idle": "2024-05-25T08:18:22.654233Z",
     "shell.execute_reply.started": "2024-05-25T08:18:22.636659Z",
     "shell.execute_reply": "2024-05-25T08:18:22.652723Z"
    },
    "trusted": true
   },
   "execution_count": 12,
   "outputs": [
    {
     "name": "stdout",
     "text": "number of posts: 44868\ncategory: \nlabel\n0    27371\n1    17497\nName: count, dtype: int64\ncategory: \nsource\npersuade_corpus                       25996\nmistral7binstruct_v1                   2421\nmistral7binstruct_v2                   2421\nchat_gpt_moth                          2421\nllama2_chat                            2421\nkingki19_palm                          1384\ntrain_essays                           1378\nllama_70b_v1                           1172\nfalcon_180b_v1                         1055\ndarragh_claude_v6                      1000\ndarragh_claude_v7                      1000\nradek_500                               500\nNousResearch/Llama-2-7b-chat-hf         400\nmistralai/Mistral-7B-Instruct-v0.1      400\ncohere-command                          350\npalm-text-bison1                        349\nradekgpt4                               200\nName: count, dtype: int64\n",
     "output_type": "stream"
    }
   ]
  },
  {
   "cell_type": "code",
   "source": "v2.drop(columns=[\"prompt_name\", \"source\",\"RDizzl3_seven\"], inplace=True)\nv2.head(3)",
   "metadata": {
    "execution": {
     "iopub.status.busy": "2024-05-25T08:18:25.643899Z",
     "iopub.execute_input": "2024-05-25T08:18:25.644319Z",
     "iopub.status.idle": "2024-05-25T08:18:25.659891Z",
     "shell.execute_reply.started": "2024-05-25T08:18:25.644279Z",
     "shell.execute_reply": "2024-05-25T08:18:25.658600Z"
    },
    "trusted": true
   },
   "execution_count": 13,
   "outputs": [
    {
     "execution_count": 13,
     "output_type": "execute_result",
     "data": {
      "text/plain": "                                                text  label\n0  Phones\\n\\nModern humans today are always on th...      0\n1  This essay will explain if drivers should or s...      0\n2  Driving while the use of cellular devices\\n\\nT...      0",
      "text/html": "<div>\n<style scoped>\n    .dataframe tbody tr th:only-of-type {\n        vertical-align: middle;\n    }\n\n    .dataframe tbody tr th {\n        vertical-align: top;\n    }\n\n    .dataframe thead th {\n        text-align: right;\n    }\n</style>\n<table border=\"1\" class=\"dataframe\">\n  <thead>\n    <tr style=\"text-align: right;\">\n      <th></th>\n      <th>text</th>\n      <th>label</th>\n    </tr>\n  </thead>\n  <tbody>\n    <tr>\n      <th>0</th>\n      <td>Phones\\n\\nModern humans today are always on th...</td>\n      <td>0</td>\n    </tr>\n    <tr>\n      <th>1</th>\n      <td>This essay will explain if drivers should or s...</td>\n      <td>0</td>\n    </tr>\n    <tr>\n      <th>2</th>\n      <td>Driving while the use of cellular devices\\n\\nT...</td>\n      <td>0</td>\n    </tr>\n  </tbody>\n</table>\n</div>"
     },
     "metadata": {}
    }
   ]
  },
  {
   "cell_type": "code",
   "source": "v2.info()",
   "metadata": {
    "execution": {
     "iopub.status.busy": "2024-05-25T08:18:32.540459Z",
     "iopub.execute_input": "2024-05-25T08:18:32.541727Z",
     "iopub.status.idle": "2024-05-25T08:18:32.568244Z",
     "shell.execute_reply.started": "2024-05-25T08:18:32.541687Z",
     "shell.execute_reply": "2024-05-25T08:18:32.566972Z"
    },
    "trusted": true
   },
   "execution_count": 14,
   "outputs": [
    {
     "name": "stdout",
     "text": "<class 'pandas.core.frame.DataFrame'>\nRangeIndex: 44868 entries, 0 to 44867\nData columns (total 2 columns):\n #   Column  Non-Null Count  Dtype \n---  ------  --------------  ----- \n 0   text    44868 non-null  object\n 1   label   44868 non-null  int64 \ndtypes: int64(1), object(1)\nmemory usage: 701.2+ KB\n",
     "output_type": "stream"
    }
   ]
  },
  {
   "cell_type": "markdown",
   "source": "## 2 分類模型的訓練流程",
   "metadata": {}
  },
  {
   "cell_type": "markdown",
   "source": "### 根據7:3的比例切分資料集\n",
   "metadata": {}
  },
  {
   "cell_type": "code",
   "source": "data = v2.copy()\nX = data[\"text\"]\ny = data[\"label\"]\n\n# 把整個資料集七三切\nX_train, X_test, y_train, y_test = train_test_split(\n    X, y, test_size=0.3, random_state=777\n)\n\nX_train.head()",
   "metadata": {
    "execution": {
     "iopub.status.busy": "2024-05-25T08:21:01.729610Z",
     "iopub.execute_input": "2024-05-25T08:21:01.730466Z",
     "iopub.status.idle": "2024-05-25T08:21:01.752002Z",
     "shell.execute_reply.started": "2024-05-25T08:21:01.730428Z",
     "shell.execute_reply": "2024-05-25T08:21:01.750659Z"
    },
    "trusted": true
   },
   "execution_count": 18,
   "outputs": [
    {
     "execution_count": 18,
     "output_type": "execute_result",
     "data": {
      "text/plain": "39535    In today's fast-paced world, the question of w...\n29254    The League of Nations, the United Nations, and...\n42012    Dear Senator,\\n\\nI am writing to discuss an es...\n8346     The author is very convinceing he didnt just s...\n34907    Title: The Pros and Cons of a Four-Day School ...\nName: text, dtype: object"
     },
     "metadata": {}
    }
   ]
  },
  {
   "cell_type": "code",
   "source": "y_train.head()",
   "metadata": {
    "execution": {
     "iopub.status.busy": "2024-05-25T08:21:07.106336Z",
     "iopub.execute_input": "2024-05-25T08:21:07.106766Z",
     "iopub.status.idle": "2024-05-25T08:21:07.115345Z",
     "shell.execute_reply.started": "2024-05-25T08:21:07.106735Z",
     "shell.execute_reply": "2024-05-25T08:21:07.114064Z"
    },
    "trusted": true
   },
   "execution_count": 19,
   "outputs": [
    {
     "execution_count": 19,
     "output_type": "execute_result",
     "data": {
      "text/plain": "39535    1\n29254    1\n42012    1\n8346     0\n34907    1\nName: label, dtype: int64"
     },
     "metadata": {}
    }
   ]
  },
  {
   "cell_type": "code",
   "source": "# 看一下各個資料集切分的比例，應該要一致\nprint(\n    f\"raw data percentage :\\n{data['label'].value_counts(normalize=True) * 100}\"\n)\nprint(f\"\\ntrain percentage :\\n{y_train.value_counts(normalize=True) * 100}\")\nprint(f\"\\ntest percentage :\\n{y_test.value_counts(normalize=True) * 100}\")",
   "metadata": {
    "execution": {
     "iopub.status.busy": "2024-05-25T08:21:57.731809Z",
     "iopub.execute_input": "2024-05-25T08:21:57.732220Z",
     "iopub.status.idle": "2024-05-25T08:21:57.747852Z",
     "shell.execute_reply.started": "2024-05-25T08:21:57.732191Z",
     "shell.execute_reply": "2024-05-25T08:21:57.746254Z"
    },
    "trusted": true
   },
   "execution_count": 20,
   "outputs": [
    {
     "name": "stdout",
     "text": "raw data percentage :\nlabel\n0    61.003388\n1    38.996612\nName: proportion, dtype: float64\n\ntrain percentage :\nlabel\n0    61.06282\n1    38.93718\nName: proportion, dtype: float64\n\ntest percentage :\nlabel\n0    60.86472\n1    39.13528\nName: proportion, dtype: float64\n",
     "output_type": "stream"
    }
   ]
  },
  {
   "cell_type": "markdown",
   "source": "### 將文章轉為 DTM",
   "metadata": {}
  },
  {
   "cell_type": "markdown",
   "source": "#### 依據詞頻 (classic BoW)",
   "metadata": {}
  },
  {
   "cell_type": "code",
   "source": "# vectorizer\nvectorizer = CountVectorizer(max_features=1000, stop_words=\"english\")\nvectorizer.fit(X_train)\nvec_train = vectorizer.transform(X_train)\nvec_test = vectorizer.transform(X_test)\n\n# classifier\nclf = LogisticRegression(max_iter=1000)\nclf.fit(vec_train, y_train)\n\ny_pred = clf.predict(vec_test)\ny_pred_proba = clf.predict_proba(vec_test)\n## Accuracy, Precision, Recall, F1-score\nprint(classification_report(y_test, y_pred))",
   "metadata": {
    "execution": {
     "iopub.status.busy": "2024-05-25T09:16:09.867172Z",
     "iopub.execute_input": "2024-05-25T09:16:09.867637Z",
     "iopub.status.idle": "2024-05-25T09:16:43.559837Z",
     "shell.execute_reply.started": "2024-05-25T09:16:09.867576Z",
     "shell.execute_reply": "2024-05-25T09:16:43.558500Z"
    },
    "trusted": true
   },
   "execution_count": 46,
   "outputs": [
    {
     "name": "stdout",
     "text": "              precision    recall  f1-score   support\n\n           0       0.99      0.99      0.99      8193\n           1       0.98      0.98      0.98      5268\n\n    accuracy                           0.98     13461\n   macro avg       0.98      0.98      0.98     13461\nweighted avg       0.98      0.98      0.98     13461\n\n",
     "output_type": "stream"
    }
   ]
  },
  {
   "cell_type": "markdown",
   "source": [
    "準確率太高了，懷疑過擬合。<br>\n",
    "所以拿另外的資料判定是否為過擬合<br>\n",
    "拿daigt_magic_generations測驗採用v2資料集的模型，原本準確率0.99降到0.46"
   ],
   "metadata": {}
  },
  {
   "cell_type": "code",
   "source": "daigt_magic_generations =pd.read_csv('/kaggle/input/daigt-v4-train-dataset/daigt_magic_generations.csv')\ndaigt_magic_generations.head(3)",
   "metadata": {
    "execution": {
     "iopub.status.busy": "2024-05-25T11:16:34.345711Z",
     "iopub.execute_input": "2024-05-25T11:16:34.346140Z",
     "iopub.status.idle": "2024-05-25T11:16:34.710667Z",
     "shell.execute_reply.started": "2024-05-25T11:16:34.346108Z",
     "shell.execute_reply": "2024-05-25T11:16:34.709252Z"
    },
    "trusted": true
   },
   "execution_count": 54,
   "outputs": [
    {
     "execution_count": 54,
     "output_type": "execute_result",
     "data": {
      "text/plain": "                                                text  label  \\\n0  Phones & Driving\\n\\nIn today's society, people...      1   \n1  Phones and Driving\\n\\nThe majority of humans o...      1   \n2  Phones & Driving\\n\\nCell phones have become a ...      1   \n\n          prompt_name                     source  RDizzl3_seven  model  \n0  Phones and driving  persuade_finetuned_llamas          False  llama  \n1  Phones and driving  persuade_finetuned_llamas          False  llama  \n2  Phones and driving  persuade_finetuned_llamas          False  llama  ",
      "text/html": "<div>\n<style scoped>\n    .dataframe tbody tr th:only-of-type {\n        vertical-align: middle;\n    }\n\n    .dataframe tbody tr th {\n        vertical-align: top;\n    }\n\n    .dataframe thead th {\n        text-align: right;\n    }\n</style>\n<table border=\"1\" class=\"dataframe\">\n  <thead>\n    <tr style=\"text-align: right;\">\n      <th></th>\n      <th>text</th>\n      <th>label</th>\n      <th>prompt_name</th>\n      <th>source</th>\n      <th>RDizzl3_seven</th>\n      <th>model</th>\n    </tr>\n  </thead>\n  <tbody>\n    <tr>\n      <th>0</th>\n      <td>Phones &amp; Driving\\n\\nIn today's society, people...</td>\n      <td>1</td>\n      <td>Phones and driving</td>\n      <td>persuade_finetuned_llamas</td>\n      <td>False</td>\n      <td>llama</td>\n    </tr>\n    <tr>\n      <th>1</th>\n      <td>Phones and Driving\\n\\nThe majority of humans o...</td>\n      <td>1</td>\n      <td>Phones and driving</td>\n      <td>persuade_finetuned_llamas</td>\n      <td>False</td>\n      <td>llama</td>\n    </tr>\n    <tr>\n      <th>2</th>\n      <td>Phones &amp; Driving\\n\\nCell phones have become a ...</td>\n      <td>1</td>\n      <td>Phones and driving</td>\n      <td>persuade_finetuned_llamas</td>\n      <td>False</td>\n      <td>llama</td>\n    </tr>\n  </tbody>\n</table>\n</div>"
     },
     "metadata": {}
    }
   ]
  },
  {
   "cell_type": "code",
   "source": "daigt_magic_generations.drop(columns=[\"prompt_name\", \"source\",\"RDizzl3_seven\", \"model\"], inplace=True)\ndaigt_magic_generations.head(3)",
   "metadata": {
    "execution": {
     "iopub.status.busy": "2024-05-25T11:17:50.593879Z",
     "iopub.execute_input": "2024-05-25T11:17:50.594989Z",
     "iopub.status.idle": "2024-05-25T11:17:50.608712Z",
     "shell.execute_reply.started": "2024-05-25T11:17:50.594949Z",
     "shell.execute_reply": "2024-05-25T11:17:50.607415Z"
    },
    "trusted": true
   },
   "execution_count": 55,
   "outputs": [
    {
     "execution_count": 55,
     "output_type": "execute_result",
     "data": {
      "text/plain": "                                                text  label\n0  Phones & Driving\\n\\nIn today's society, people...      1\n1  Phones and Driving\\n\\nThe majority of humans o...      1\n2  Phones & Driving\\n\\nCell phones have become a ...      1",
      "text/html": "<div>\n<style scoped>\n    .dataframe tbody tr th:only-of-type {\n        vertical-align: middle;\n    }\n\n    .dataframe tbody tr th {\n        vertical-align: top;\n    }\n\n    .dataframe thead th {\n        text-align: right;\n    }\n</style>\n<table border=\"1\" class=\"dataframe\">\n  <thead>\n    <tr style=\"text-align: right;\">\n      <th></th>\n      <th>text</th>\n      <th>label</th>\n    </tr>\n  </thead>\n  <tbody>\n    <tr>\n      <th>0</th>\n      <td>Phones &amp; Driving\\n\\nIn today's society, people...</td>\n      <td>1</td>\n    </tr>\n    <tr>\n      <th>1</th>\n      <td>Phones and Driving\\n\\nThe majority of humans o...</td>\n      <td>1</td>\n    </tr>\n    <tr>\n      <th>2</th>\n      <td>Phones &amp; Driving\\n\\nCell phones have become a ...</td>\n      <td>1</td>\n    </tr>\n  </tbody>\n</table>\n</div>"
     },
     "metadata": {}
    }
   ]
  },
  {
   "cell_type": "code",
   "source": "daigt_magic_generations.info()",
   "metadata": {
    "execution": {
     "iopub.status.busy": "2024-05-25T11:18:01.992610Z",
     "iopub.execute_input": "2024-05-25T11:18:01.992984Z",
     "iopub.status.idle": "2024-05-25T11:18:02.007383Z",
     "shell.execute_reply.started": "2024-05-25T11:18:01.992956Z",
     "shell.execute_reply": "2024-05-25T11:18:02.006076Z"
    },
    "trusted": true
   },
   "execution_count": 56,
   "outputs": [
    {
     "name": "stdout",
     "text": "<class 'pandas.core.frame.DataFrame'>\nRangeIndex: 8306 entries, 0 to 8305\nData columns (total 2 columns):\n #   Column  Non-Null Count  Dtype \n---  ------  --------------  ----- \n 0   text    8306 non-null   object\n 1   label   8306 non-null   int64 \ndtypes: int64(1), object(1)\nmemory usage: 129.9+ KB\n",
     "output_type": "stream"
    }
   ]
  },
  {
   "cell_type": "markdown",
   "source": [
    "檢查daigt_magic_generations, v2有無重覆資料"
   ],
   "metadata": {}
  },
  {
   "cell_type": "code",
   "source": "# 合併兩個資料集\ncombined_df = pd.concat([daigt_magic_generations['text'], v2['text']], axis=0)\n\n# 檢查重複資料\nduplicates = combined_df.duplicated().sum()\n\nprint(f\"共有 {duplicates} 筆重複資料。\")",
   "metadata": {
    "execution": {
     "iopub.status.busy": "2024-05-25T11:18:12.303183Z",
     "iopub.execute_input": "2024-05-25T11:18:12.303630Z",
     "iopub.status.idle": "2024-05-25T11:18:12.336920Z",
     "shell.execute_reply.started": "2024-05-25T11:18:12.303598Z",
     "shell.execute_reply": "2024-05-25T11:18:12.335807Z"
    },
    "trusted": true
   },
   "execution_count": 57,
   "outputs": [
    {
     "name": "stdout",
     "text": "共有 0 筆重複資料。\n",
     "output_type": "stream"
    }
   ]
  },
  {
   "cell_type": "code",
   "source": "vec_daigt_magic_generations = vectorizer.transform(daigt_magic_generations['text'])\ndaigt_magic_generations_pred = clf.predict(vec_daigt_magic_generations)\n## Accuracy, Precision, Recall, F1-score\nprint(classification_report(daigt_magic_generations['label'], daigt_magic_generations_pred))",
   "metadata": {
    "execution": {
     "iopub.status.busy": "2024-05-25T11:18:56.212004Z",
     "iopub.execute_input": "2024-05-25T11:18:56.212449Z",
     "iopub.status.idle": "2024-05-25T11:18:58.854743Z",
     "shell.execute_reply.started": "2024-05-25T11:18:56.212413Z",
     "shell.execute_reply": "2024-05-25T11:18:58.853641Z"
    },
    "trusted": true
   },
   "execution_count": 58,
   "outputs": [
    {
     "name": "stdout",
     "text": "              precision    recall  f1-score   support\n\n           0       0.00      0.00      0.00         0\n           1       1.00      0.46      0.63      8306\n\n    accuracy                           0.46      8306\n   macro avg       0.50      0.23      0.31      8306\nweighted avg       1.00      0.46      0.63      8306\n\n",
     "output_type": "stream"
    },
    {
     "name": "stderr",
     "text": "/opt/conda/lib/python3.10/site-packages/sklearn/metrics/_classification.py:1344: UndefinedMetricWarning: Recall and F-score are ill-defined and being set to 0.0 in labels with no true samples. Use `zero_division` parameter to control this behavior.\n  _warn_prf(average, modifier, msg_start, len(result))\n/opt/conda/lib/python3.10/site-packages/sklearn/metrics/_classification.py:1344: UndefinedMetricWarning: Recall and F-score are ill-defined and being set to 0.0 in labels with no true samples. Use `zero_division` parameter to control this behavior.\n  _warn_prf(average, modifier, msg_start, len(result))\n/opt/conda/lib/python3.10/site-packages/sklearn/metrics/_classification.py:1344: UndefinedMetricWarning: Recall and F-score are ill-defined and being set to 0.0 in labels with no true samples. Use `zero_division` parameter to control this behavior.\n  _warn_prf(average, modifier, msg_start, len(result))\n",
     "output_type": "stream"
    }
   ]
  },
  {
   "cell_type": "markdown",
   "source": [
    "結果accuracy只有0.46，\n",
    "使用改用v4(daigt-v4-train-dataset)的資料"
   ],
   "metadata": {}
  },
  {
   "cell_type": "markdown",
   "source": [
    "## 1. 文字前處理"
   ],
   "metadata": {
    "collapsed": false
   }
  },
  {
   "cell_type": "code",
   "source": "v4=pd.read_csv('/kaggle/input/daigt-v4-train-dataset/train_v4_drcat_01.csv')\nv4.head(3)",
   "metadata": {
    "execution": {
     "iopub.status.busy": "2024-05-25T11:47:39.324936Z",
     "iopub.execute_input": "2024-05-25T11:47:39.326689Z",
     "iopub.status.idle": "2024-05-25T11:47:43.164216Z",
     "shell.execute_reply.started": "2024-05-25T11:47:39.326625Z",
     "shell.execute_reply": "2024-05-25T11:47:43.163104Z"
    },
    "trusted": true
   },
   "execution_count": 4,
   "outputs": [
    {
     "execution_count": 4,
     "output_type": "execute_result",
     "data": {
      "text/plain": "                                                text  label  \\\n0  Phones\\n\\nModern humans today are always on th...      0   \n1  This essay will explain if drivers should or s...      0   \n2  Driving while the use of cellular devices\\n\\nT...      0   \n\n          prompt_name           source  RDizzl3_seven  model  \n0  Phones and driving  persuade_corpus          False  human  \n1  Phones and driving  persuade_corpus          False  human  \n2  Phones and driving  persuade_corpus          False  human  ",
      "text/html": "<div>\n<style scoped>\n    .dataframe tbody tr th:only-of-type {\n        vertical-align: middle;\n    }\n\n    .dataframe tbody tr th {\n        vertical-align: top;\n    }\n\n    .dataframe thead th {\n        text-align: right;\n    }\n</style>\n<table border=\"1\" class=\"dataframe\">\n  <thead>\n    <tr style=\"text-align: right;\">\n      <th></th>\n      <th>text</th>\n      <th>label</th>\n      <th>prompt_name</th>\n      <th>source</th>\n      <th>RDizzl3_seven</th>\n      <th>model</th>\n    </tr>\n  </thead>\n  <tbody>\n    <tr>\n      <th>0</th>\n      <td>Phones\\n\\nModern humans today are always on th...</td>\n      <td>0</td>\n      <td>Phones and driving</td>\n      <td>persuade_corpus</td>\n      <td>False</td>\n      <td>human</td>\n    </tr>\n    <tr>\n      <th>1</th>\n      <td>This essay will explain if drivers should or s...</td>\n      <td>0</td>\n      <td>Phones and driving</td>\n      <td>persuade_corpus</td>\n      <td>False</td>\n      <td>human</td>\n    </tr>\n    <tr>\n      <th>2</th>\n      <td>Driving while the use of cellular devices\\n\\nT...</td>\n      <td>0</td>\n      <td>Phones and driving</td>\n      <td>persuade_corpus</td>\n      <td>False</td>\n      <td>human</td>\n    </tr>\n  </tbody>\n</table>\n</div>"
     },
     "metadata": {}
    }
   ]
  },
  {
   "cell_type": "code",
   "source": "# 看看有幾篇文章\nprint(f\"number of posts: {v4.shape[0]}\")\n# 1 for AI generated, 0 for human\nprint(f\"category: \\n{v4['label'].value_counts()}\")\nprint(f\"category: \\n{v4['source'].value_counts()}\")",
   "metadata": {
    "execution": {
     "iopub.status.busy": "2024-05-25T11:23:36.003689Z",
     "iopub.execute_input": "2024-05-25T11:23:36.004104Z",
     "iopub.status.idle": "2024-05-25T11:23:36.025427Z",
     "shell.execute_reply.started": "2024-05-25T11:23:36.004072Z",
     "shell.execute_reply": "2024-05-25T11:23:36.024256Z"
    },
    "trusted": true
   },
   "execution_count": 60,
   "outputs": [
    {
     "name": "stdout",
     "text": "number of posts: 73573\ncategory: \nlabel\n1    46203\n0    27370\nName: count, dtype: int64\ncategory: \nsource\npersuade_corpus                           25995\npersuade_finetuned_llamas                  8306\nMistral7B_CME_v7                           4890\nllama_falcon_v3_llama_70b                  3500\nllama_falcon_v3_falcon_180b                3493\nIntel-neural-chat-7b-v3-1_LLMEssays_v1     3309\nmistral7binstruct_v2                       2421\nchat_gpt_moth                              2421\nmistral7binstruct_v1                       2420\nllama2_chat                                2418\nkingki19_palm                              1384\ntrain_essays                               1378\nllama_70b_v1                               1172\nfalcon_180b_v1                             1043\nnima_gpt4                                  1040\ndarragh_claude_v6                          1000\ndarragh_claude_v7                          1000\ntext-davinci-001                            700\ntext-davinci-003                            700\ntext-davinci-002                            699\ntext-babbage-001                            698\ntext-curie-001                              696\ntext-ada-001                                692\nradek_500                                   500\nNousResearch/Llama-2-7b-chat-hf             400\nmistralai/Mistral-7B-Instruct-v0.1          399\ncohere-command                              350\npalm-text-bison1                            349\nradekgpt4                                   200\nName: count, dtype: int64\n",
     "output_type": "stream"
    }
   ]
  },
  {
   "cell_type": "code",
   "source": "v4.drop(columns=[\"prompt_name\", \"source\",\"RDizzl3_seven\", \"model\"], inplace=True)\nv4.head(3)",
   "metadata": {
    "execution": {
     "iopub.status.busy": "2024-05-25T11:47:48.276379Z",
     "iopub.execute_input": "2024-05-25T11:47:48.276842Z",
     "iopub.status.idle": "2024-05-25T11:47:48.301837Z",
     "shell.execute_reply.started": "2024-05-25T11:47:48.276809Z",
     "shell.execute_reply": "2024-05-25T11:47:48.300634Z"
    },
    "trusted": true
   },
   "execution_count": 5,
   "outputs": [
    {
     "execution_count": 5,
     "output_type": "execute_result",
     "data": {
      "text/plain": "                                                text  label\n0  Phones\\n\\nModern humans today are always on th...      0\n1  This essay will explain if drivers should or s...      0\n2  Driving while the use of cellular devices\\n\\nT...      0",
      "text/html": "<div>\n<style scoped>\n    .dataframe tbody tr th:only-of-type {\n        vertical-align: middle;\n    }\n\n    .dataframe tbody tr th {\n        vertical-align: top;\n    }\n\n    .dataframe thead th {\n        text-align: right;\n    }\n</style>\n<table border=\"1\" class=\"dataframe\">\n  <thead>\n    <tr style=\"text-align: right;\">\n      <th></th>\n      <th>text</th>\n      <th>label</th>\n    </tr>\n  </thead>\n  <tbody>\n    <tr>\n      <th>0</th>\n      <td>Phones\\n\\nModern humans today are always on th...</td>\n      <td>0</td>\n    </tr>\n    <tr>\n      <th>1</th>\n      <td>This essay will explain if drivers should or s...</td>\n      <td>0</td>\n    </tr>\n    <tr>\n      <th>2</th>\n      <td>Driving while the use of cellular devices\\n\\nT...</td>\n      <td>0</td>\n    </tr>\n  </tbody>\n</table>\n</div>"
     },
     "metadata": {}
    }
   ]
  },
  {
   "cell_type": "code",
   "source": "v4.info()",
   "metadata": {
    "execution": {
     "iopub.status.busy": "2024-05-25T11:25:06.777130Z",
     "iopub.execute_input": "2024-05-25T11:25:06.777545Z",
     "iopub.status.idle": "2024-05-25T11:25:06.802430Z",
     "shell.execute_reply.started": "2024-05-25T11:25:06.777509Z",
     "shell.execute_reply": "2024-05-25T11:25:06.800885Z"
    },
    "trusted": true
   },
   "execution_count": 63,
   "outputs": [
    {
     "name": "stdout",
     "text": "<class 'pandas.core.frame.DataFrame'>\nRangeIndex: 73573 entries, 0 to 73572\nData columns (total 2 columns):\n #   Column  Non-Null Count  Dtype \n---  ------  --------------  ----- \n 0   text    73573 non-null  object\n 1   label   73573 non-null  int64 \ndtypes: int64(1), object(1)\nmemory usage: 1.1+ MB\n",
     "output_type": "stream"
    }
   ]
  },
  {
   "cell_type": "markdown",
   "source": [
    "## 2. 分類模型的訓練流程"
   ],
   "metadata": {
    "collapsed": false
   }
  },
  {
   "cell_type": "code",
   "source": "data = v4.copy()\nX = data[\"text\"]\ny = data[\"label\"]\n\n# 把整個資料集七三切\nX_train, X_test, y_train, y_test = train_test_split(\n    X, y, test_size=0.3, random_state=777\n)\n\nX_train.head()",
   "metadata": {
    "execution": {
     "iopub.status.busy": "2024-05-25T11:47:51.730744Z",
     "iopub.execute_input": "2024-05-25T11:47:51.731275Z",
     "iopub.status.idle": "2024-05-25T11:47:51.757792Z",
     "shell.execute_reply.started": "2024-05-25T11:47:51.731242Z",
     "shell.execute_reply": "2024-05-25T11:47:51.756619Z"
    },
    "trusted": true
   },
   "execution_count": 6,
   "outputs": [
    {
     "execution_count": 6,
     "output_type": "execute_result",
     "data": {
      "text/plain": "58115    The Facial Action Coding System (FACS) is a gr...\n24722    At some place like NASA, when they are buildin...\n37298     Do we choose our own character traits or is o...\n16196    Dear Principal,\\n\\nI know you mean well changi...\n71085    The author of \"The Challenge of Exploring Venu...\nName: text, dtype: object"
     },
     "metadata": {}
    }
   ]
  },
  {
   "cell_type": "code",
   "source": "# 看一下各個資料集切分的比例，應該要一致\nprint(\n    f\"raw data percentage :\\n{data['label'].value_counts(normalize=True) * 100}\"\n)\nprint(f\"\\ntrain percentage :\\n{y_train.value_counts(normalize=True) * 100}\")\nprint(f\"\\ntest percentage :\\n{y_test.value_counts(normalize=True) * 100}\")",
   "metadata": {
    "execution": {
     "iopub.status.busy": "2024-05-25T11:25:43.487670Z",
     "iopub.execute_input": "2024-05-25T11:25:43.488098Z",
     "iopub.status.idle": "2024-05-25T11:25:43.500879Z",
     "shell.execute_reply.started": "2024-05-25T11:25:43.488065Z",
     "shell.execute_reply": "2024-05-25T11:25:43.499679Z"
    },
    "trusted": true
   },
   "execution_count": 65,
   "outputs": [
    {
     "name": "stdout",
     "text": "raw data percentage :\nlabel\n1    62.798853\n0    37.201147\nName: proportion, dtype: float64\n\ntrain percentage :\nlabel\n1    62.726937\n0    37.273063\nName: proportion, dtype: float64\n\ntest percentage :\nlabel\n1    62.966655\n0    37.033345\nName: proportion, dtype: float64\n",
     "output_type": "stream"
    }
   ]
  },
  {
   "cell_type": "markdown",
   "source": [
    "### 依據詞頻 (classic BoW)"
   ],
   "metadata": {
    "collapsed": false
   }
  },
  {
   "cell_type": "code",
   "source": "# vectorizer\nvectorizer = CountVectorizer(max_features=10000, stop_words=\"english\")\nvectorizer.fit(X_train)\nvec_train = vectorizer.transform(X_train)\nvec_test = vectorizer.transform(X_test)\n\n# classifier\nclf = LogisticRegression(max_iter=1000)\nclf.fit(vec_train, y_train)\n\ny_pred = clf.predict(vec_test)\ny_pred_proba = clf.predict_proba(vec_test)\n## Accuracy, Precision, Recall, F1-score\nprint(classification_report(y_test, y_pred))",
   "metadata": {
    "execution": {
     "iopub.status.busy": "2024-05-25T11:26:49.763001Z",
     "iopub.execute_input": "2024-05-25T11:26:49.763415Z",
     "iopub.status.idle": "2024-05-25T11:28:17.696308Z",
     "shell.execute_reply.started": "2024-05-25T11:26:49.763383Z",
     "shell.execute_reply": "2024-05-25T11:28:17.695214Z"
    },
    "trusted": true
   },
   "execution_count": 67,
   "outputs": [
    {
     "name": "stdout",
     "text": "              precision    recall  f1-score   support\n\n           0       0.95      0.95      0.95      8174\n           1       0.97      0.97      0.97     13898\n\n    accuracy                           0.96     22072\n   macro avg       0.96      0.96      0.96     22072\nweighted avg       0.96      0.96      0.96     22072\n\n",
     "output_type": "stream"
    }
   ]
  },
  {
   "cell_type": "markdown",
   "source": "準確率還是很高，但正常一點了。",
   "metadata": {}
  },
  {
   "cell_type": "markdown",
   "source": [
    "### tfidf檢測"
   ],
   "metadata": {}
  },
  {
   "cell_type": "code",
   "source": "vectorizer = TfidfVectorizer(max_features=1000, stop_words=\"english\")\nvec_train = vectorizer.fit_transform(X_train)\nvec_test = vectorizer.transform(X_test)\n\nclf.fit(vec_train, y_train)\ny_pred = clf.predict(vec_test)\ny_pred_proba = clf.predict_proba(vec_test)\n\n# results\n## Accuracy, Precision, Recall, F1-score\nprint(classification_report(y_test, y_pred))",
   "metadata": {
    "execution": {
     "iopub.status.busy": "2024-05-25T11:31:09.411267Z",
     "iopub.execute_input": "2024-05-25T11:31:09.411737Z",
     "iopub.status.idle": "2024-05-25T11:31:41.066028Z",
     "shell.execute_reply.started": "2024-05-25T11:31:09.411703Z",
     "shell.execute_reply": "2024-05-25T11:31:41.064435Z"
    },
    "trusted": true
   },
   "execution_count": 69,
   "outputs": [
    {
     "name": "stdout",
     "text": "              precision    recall  f1-score   support\n\n           0       0.91      0.94      0.92      8174\n           1       0.97      0.94      0.95     13898\n\n    accuracy                           0.94     22072\n   macro avg       0.94      0.94      0.94     22072\nweighted avg       0.94      0.94      0.94     22072\n\n",
     "output_type": "stream"
    }
   ]
  },
  {
   "cell_type": "markdown",
   "source": [
    "使用詞頻計算的結果比較好"
   ],
   "metadata": {
    "collapsed": false
   }
  },
  {
   "cell_type": "markdown",
   "source": "### cross validation",
   "metadata": {}
  },
  {
   "cell_type": "code",
   "source": "# 定義模型訓練組合\n## pipeline: 資料處理 vectorizer + 分類器 clf\n## 由於 cross-validation 會自動將資料分成 train/test，因此 input 只要給 X, y 即可\n\ndef train_cv(vectorizer, clf, X, y):\n\n    ## train classifier\n    vec_X = vectorizer.fit_transform(X).toarray()\n    \n    ## get cv results\n    cv_results = cross_validate(clf, vec_X, y, cv=5, return_estimator=True)\n    y_pred = cross_val_predict(clf, vec_X, y, cv=5)\n    y_pred_proba = cross_val_predict(clf, vec_X, y, cv=5, method=\"predict_proba\")\n\n    # one-hot encoding\n    enc = OneHotEncoder(sparse_output=False)\n    enc.fit(y.values.reshape(-1, 1))\n    \n    ## Accuracy, Precision, Recall, F1-score\n    cls_report = classification_report(y, y_pred, output_dict=True)\n    print(classification_report(y, y_pred))\n\n    classes = cv_results['estimator'][0].classes_\n    \n    ## Plot confusion matrix\n    cm = confusion_matrix(y, y_pred)\n    fig, ax = plt.subplots()\n    sns.heatmap(cm, annot=True, fmt=\"d\", ax=ax, cmap=plt.cm.Blues, cbar=False)\n    ax.set(\n        xlabel=\"Pred\",\n        ylabel=\"True\",\n        xticklabels=classes,\n        yticklabels=classes,\n        title=\"Confusion matrix\",\n    )\n    plt.yticks(rotation=0)\n\n    clf.fit(vec_X, y)\n    # return the model object\n    return cls_report\n\nvectorizer = CountVectorizer(max_features=1000, stop_words=\"english\")\nclf = LogisticRegression(max_iter=1000)\nresult = train_cv(vectorizer, clf, X_train, y_train)",
   "metadata": {
    "execution": {
     "iopub.status.busy": "2024-05-25T11:49:16.862365Z",
     "iopub.execute_input": "2024-05-25T11:49:16.862979Z",
     "iopub.status.idle": "2024-05-25T11:49:16.875467Z",
     "shell.execute_reply.started": "2024-05-25T11:49:16.862940Z",
     "shell.execute_reply": "2024-05-25T11:49:16.874103Z"
    },
    "trusted": true
   },
   "execution_count": 9,
   "outputs": []
  },
  {
   "cell_type": "markdown",
   "source": "## 3 比較不同模型的效果",
   "metadata": {}
  },
  {
   "cell_type": "markdown",
   "source": [
    "LogisticRegression, SVM, DecisionTreeClassifier, RandomForestClassifier"
   ],
   "metadata": {
    "collapsed": false
   }
  },
  {
   "cell_type": "code",
   "source": "# 準備訓練資料\nX = data[\"text\"]\ny = data[\"label\"]\n# 把整個資料集七三切\nX_train, X_test, y_train, y_test = train_test_split(\n    X, y, test_size=0.3, random_state=777\n)\n# 定義模型訓練組合\nmodel_set = dict()\nmodel_set['clf_logistic'] = LogisticRegression(max_iter=1000)\nmodel_set['clf_dtree'] = DecisionTreeClassifier()\n# model_set['clf_svm'] = svm.SVC(probability=True) # 要使用SVM的predict_proba的話，必須在叫出SVC的時候就將probability設為True\nmodel_set['clf_rf'] = RandomForestClassifier()\n# 定義 vectorizer\nvectorizer = CountVectorizer(max_features=1000, stop_words=\"english\")\n# 存結果\nresult_set = dict()\n\nfor k, model in model_set.items():\n    print(\"=\"*100)\n    print(f\"now training: {k}\")\n    result_set[k] = train_cv(vectorizer, model, X_train, y_train)\n    print(\"=\"*100)",
   "metadata": {
    "execution": {
     "iopub.status.busy": "2024-05-25T11:49:25.360720Z",
     "iopub.execute_input": "2024-05-25T11:49:25.361226Z",
     "iopub.status.idle": "2024-05-25T12:10:45.499985Z",
     "shell.execute_reply.started": "2024-05-25T11:49:25.361183Z",
     "shell.execute_reply": "2024-05-25T12:10:45.498818Z"
    },
    "trusted": true
   },
   "execution_count": 10,
   "outputs": [
    {
     "name": "stdout",
     "text": "====================================================================================================\nnow training: clf_logistic\n              precision    recall  f1-score   support\n\n           0       0.92      0.94      0.93     19196\n           1       0.96      0.95      0.96     32305\n\n    accuracy                           0.94     51501\n   macro avg       0.94      0.94      0.94     51501\nweighted avg       0.94      0.94      0.94     51501\n\n====================================================================================================\n====================================================================================================\nnow training: clf_dtree\n              precision    recall  f1-score   support\n\n           0       0.81      0.81      0.81     19196\n           1       0.89      0.89      0.89     32305\n\n    accuracy                           0.86     51501\n   macro avg       0.85      0.85      0.85     51501\nweighted avg       0.86      0.86      0.86     51501\n\n====================================================================================================\n====================================================================================================\nnow training: clf_rf\n              precision    recall  f1-score   support\n\n           0       0.90      0.96      0.92     19196\n           1       0.97      0.93      0.95     32305\n\n    accuracy                           0.94     51501\n   macro avg       0.93      0.94      0.94     51501\nweighted avg       0.94      0.94      0.94     51501\n\n====================================================================================================\n",
     "output_type": "stream"
    },
    {
     "output_type": "display_data",
     "data": {
      "text/plain": "<Figure size 640x480 with 1 Axes>",
      "image/png": "[encoded data removed]"
     },
     "metadata": {}
    },
    {
     "output_type": "display_data",
     "data": {
      "text/plain": "<Figure size 640x480 with 1 Axes>",
      "image/png": "[encoded data removed]"
     },
     "metadata": {}
    },
    {
     "output_type": "display_data",
     "data": {
      "text/plain": "<Figure size 640x480 with 1 Axes>",
      "image/png": "[encoded data removed]"
     },
     "metadata": {}
    }
   ]
  },
  {
   "cell_type": "code",
   "source": "max = 0\nbest_model_name = \"\"\nbest_model_metric = \"f1-score\"\n\n## choose max f1-score model from result_set\nfor k, v in result_set.items():\n    if v['weighted avg'][best_model_metric] > max:\n        max = v['weighted avg'][best_model_metric]\n        best_model_name = k\nprint(f\"best model: {best_model_name}\")",
   "metadata": {
    "execution": {
     "iopub.status.busy": "2024-05-25T12:15:47.220694Z",
     "iopub.execute_input": "2024-05-25T12:15:47.221266Z",
     "iopub.status.idle": "2024-05-25T12:15:47.229191Z",
     "shell.execute_reply.started": "2024-05-25T12:15:47.221220Z",
     "shell.execute_reply": "2024-05-25T12:15:47.227797Z"
    },
    "trusted": true
   },
   "execution_count": 11,
   "outputs": [
    {
     "name": "stdout",
     "text": "best model: clf_logistic\n",
     "output_type": "stream"
    }
   ]
  },
  {
   "cell_type": "markdown",
   "source": [
    "logistic regression的準確率(0.95)最高，效果最好。<br>\n",
    "準確率有達0.95代表LLM和人類生成的文本還很好區別。"
   ],
   "metadata": {
    "collapsed": false
   }
  },
  {
   "cell_type": "code",
   "source": "y_pred = model_set['clf_logistic'].predict(vectorizer.transform(X_test))\nprint(classification_report(y_test, y_pred))",
   "metadata": {
    "execution": {
     "iopub.status.busy": "2024-05-25T12:15:54.336519Z",
     "iopub.execute_input": "2024-05-25T12:15:54.336975Z",
     "iopub.status.idle": "2024-05-25T12:16:00.324487Z",
     "shell.execute_reply.started": "2024-05-25T12:15:54.336945Z",
     "shell.execute_reply": "2024-05-25T12:16:00.323195Z"
    },
    "trusted": true
   },
   "execution_count": 12,
   "outputs": [
    {
     "name": "stdout",
     "text": "              precision    recall  f1-score   support\n\n           0       0.92      0.94      0.93      8174\n           1       0.96      0.95      0.96     13898\n\n    accuracy                           0.95     22072\n   macro avg       0.94      0.95      0.94     22072\nweighted avg       0.95      0.95      0.95     22072\n\n",
     "output_type": "stream"
    }
   ]
  },
  {
   "cell_type": "markdown",
   "source": "## 4 分析可解釋模型的結果",
   "metadata": {}
  },
  {
   "cell_type": "code",
   "source": "def plot_coef(logistic_reg_model, feature_names, top_n=10):\n    # 選出某個類別的前10大影響力字詞\n    log_odds = logistic_reg_model.coef_.T\n    coef_df = pd.DataFrame(\n        log_odds, \n        columns=logistic_reg_model.classes_[[1]], index=feature_names\n    )\n    for label in coef_df.columns:\n        select_words = (\n            coef_df[[label]]\n            .sort_values(by=label, ascending=False)\n            .iloc[np.r_[0:top_n, -top_n:0]]\n        )\n        word = select_words.index\n        count = select_words[label]\n        category_colors = np.where(\n            select_words[label] >= 0, \"darkseagreen\", \"rosybrown\"\n        )  # 設定顏色\n\n        fig, ax = plt.subplots(figsize=(8, top_n*0.8))  # 設定畫布\n        plt.rcParams[\"axes.unicode_minus\"] = False\n\n        ax.barh(word, count, color=category_colors)\n        ax.invert_yaxis()\n        ax.set_title(\n            \"Coeff increase/decrease odds ratio of AI-Generated-Detect label the most\",\n            loc=\"left\",\n            size=16,\n        )\n        ax.set_ylabel(\"word\", size=14)\n        ax.set_xlabel(\"Word Frequency\", size=14)\n\n# plot logistic model\nplot_coef(logistic_reg_model=model_set['clf_logistic'], feature_names=vectorizer.get_feature_names_out(), top_n=10)",
   "metadata": {
    "execution": {
     "iopub.status.busy": "2024-05-25T12:17:43.674079Z",
     "iopub.execute_input": "2024-05-25T12:17:43.674574Z",
     "iopub.status.idle": "2024-05-25T12:17:44.172807Z",
     "shell.execute_reply.started": "2024-05-25T12:17:43.674528Z",
     "shell.execute_reply": "2024-05-25T12:17:44.171394Z"
    },
    "trusted": true
   },
   "execution_count": 14,
   "outputs": [
    {
     "output_type": "display_data",
     "data": {
      "text/plain": "<Figure size 800x800 with 1 Axes>",
      "image/png": "[encoded data removed]"
     },
     "metadata": {}
    }
   ]
  },
  {
   "cell_type": "markdown",
   "source": [
    "## 5 結論\n",
    "LLM的常用詞相較人類生成的文本，像extraterrestrial, ownership都是人類較少或沒有聽過的詞。也就是說LLM用詞會較人類用詞複雜。"
   ],
   "metadata": {
    "collapsed": false
   }
  },
  {
   "cell_type": "code",
   "outputs": [],
   "source": [],
   "metadata": {
    "collapsed": false
   }
  }
 ]
}
