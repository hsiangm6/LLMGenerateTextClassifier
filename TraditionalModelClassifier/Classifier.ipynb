{
 "metadata": {
  "kernelspec": {
   "language": "python",
   "display_name": "Python 3",
   "name": "python3"
  },
  "language_info": {
   "name": "python",
   "version": "3.10.13",
   "mimetype": "text/x-python",
   "codemirror_mode": {
    "name": "ipython",
    "version": 3
   },
   "pygments_lexer": "ipython3",
   "nbconvert_exporter": "python",
   "file_extension": ".py"
  },
  "kaggle": {
   "accelerator": "none",
   "dataSources": [
    {
     "sourceId": 61542,
     "databundleVersionId": 7516023,
     "sourceType": "competition"
    },
    {
     "sourceId": 6977472,
     "sourceType": "datasetVersion",
     "datasetId": 4005256
    },
    {
     "sourceId": 7409832,
     "sourceType": "datasetVersion",
     "datasetId": 4309752
    }
   ],
   "dockerImageVersionId": 30699,
   "isInternetEnabled": true,
   "language": "python",
   "sourceType": "notebook",
   "isGpuEnabled": false
  }
 },
 "nbformat_minor": 4,
 "nbformat": 4,
 "cells": [
  {
   "cell_type": "code",
   "source": [
    "import pandas as pd\n",
    "import numpy as np\n",
    "import matplotlib.pyplot as plt\n",
    "import seaborn as sns\n",
    "from sklearn.model_selection import train_test_split, cross_validate, cross_val_predict, KFold, GridSearchCV\n",
    "from sklearn.metrics import (\n",
    "    confusion_matrix,\n",
    "    classification_report\n",
    ")\n",
    "from sklearn.feature_extraction.text import TfidfVectorizer, CountVectorizer\n",
    "from sklearn.preprocessing import OneHotEncoder\n",
    "from sklearn.linear_model import LogisticRegression\n",
    "from sklearn.tree import DecisionTreeClassifier\n",
    "from sklearn.ensemble import RandomForestClassifier\n",
    "from sklearn import svm"
   ],
   "metadata": {
    "execution": {
     "iopub.status.busy": "2024-05-25T11:47:23.701678Z",
     "iopub.execute_input": "2024-05-25T11:47:23.702149Z",
     "iopub.status.idle": "2024-05-25T11:47:27.211837Z",
     "shell.execute_reply.started": "2024-05-25T11:47:23.702116Z",
     "shell.execute_reply": "2024-05-25T11:47:27.210472Z"
    },
    "trusted": true,
    "ExecuteTime": {
     "end_time": "2024-05-29T13:25:13.769331Z",
     "start_time": "2024-05-29T13:25:13.763332Z"
    }
   },
   "outputs": [],
   "execution_count": 4
  },
  {
   "cell_type": "markdown",
   "source": "## 1 文字前處理",
   "metadata": {}
  },
  {
   "cell_type": "code",
   "source": [
    "df = pd.read_csv('../data/DAIGT V4 Train Dataset.csv')\n",
    "df.head(3)"
   ],
   "metadata": {
    "execution": {
     "iopub.status.busy": "2024-05-25T08:18:04.049079Z",
     "iopub.execute_input": "2024-05-25T08:18:04.050061Z",
     "iopub.status.idle": "2024-05-25T08:18:05.431713Z",
     "shell.execute_reply.started": "2024-05-25T08:18:04.050013Z",
     "shell.execute_reply": "2024-05-25T08:18:05.430182Z"
    },
    "trusted": true,
    "ExecuteTime": {
     "end_time": "2024-05-29T13:26:19.950708Z",
     "start_time": "2024-05-29T13:26:18.926709Z"
    }
   },
   "outputs": [
    {
     "data": {
      "text/plain": [
       "                                                text  label  \\\n",
       "0  Phones\\n\\nModern humans today are always on th...      0   \n",
       "1  This essay will explain if drivers should or s...      0   \n",
       "2  Driving while the use of cellular devices\\n\\nT...      0   \n",
       "\n",
       "          prompt_name           source  RDizzl3_seven  model  \n",
       "0  Phones and driving  persuade_corpus          False  human  \n",
       "1  Phones and driving  persuade_corpus          False  human  \n",
       "2  Phones and driving  persuade_corpus          False  human  "
      ],
      "text/html": [
       "<div>\n",
       "<style scoped>\n",
       "    .dataframe tbody tr th:only-of-type {\n",
       "        vertical-align: middle;\n",
       "    }\n",
       "\n",
       "    .dataframe tbody tr th {\n",
       "        vertical-align: top;\n",
       "    }\n",
       "\n",
       "    .dataframe thead th {\n",
       "        text-align: right;\n",
       "    }\n",
       "</style>\n",
       "<table border=\"1\" class=\"dataframe\">\n",
       "  <thead>\n",
       "    <tr style=\"text-align: right;\">\n",
       "      <th></th>\n",
       "      <th>text</th>\n",
       "      <th>label</th>\n",
       "      <th>prompt_name</th>\n",
       "      <th>source</th>\n",
       "      <th>RDizzl3_seven</th>\n",
       "      <th>model</th>\n",
       "    </tr>\n",
       "  </thead>\n",
       "  <tbody>\n",
       "    <tr>\n",
       "      <th>0</th>\n",
       "      <td>Phones\\n\\nModern humans today are always on th...</td>\n",
       "      <td>0</td>\n",
       "      <td>Phones and driving</td>\n",
       "      <td>persuade_corpus</td>\n",
       "      <td>False</td>\n",
       "      <td>human</td>\n",
       "    </tr>\n",
       "    <tr>\n",
       "      <th>1</th>\n",
       "      <td>This essay will explain if drivers should or s...</td>\n",
       "      <td>0</td>\n",
       "      <td>Phones and driving</td>\n",
       "      <td>persuade_corpus</td>\n",
       "      <td>False</td>\n",
       "      <td>human</td>\n",
       "    </tr>\n",
       "    <tr>\n",
       "      <th>2</th>\n",
       "      <td>Driving while the use of cellular devices\\n\\nT...</td>\n",
       "      <td>0</td>\n",
       "      <td>Phones and driving</td>\n",
       "      <td>persuade_corpus</td>\n",
       "      <td>False</td>\n",
       "      <td>human</td>\n",
       "    </tr>\n",
       "  </tbody>\n",
       "</table>\n",
       "</div>"
      ]
     },
     "execution_count": 9,
     "metadata": {},
     "output_type": "execute_result"
    }
   ],
   "execution_count": 9
  },
  {
   "cell_type": "code",
   "source": [
    "# 看看有幾篇文章\n",
    "print(f\"number of posts: {df.shape[0]}\")\n",
    "# 1 for AI generated, 0 for human\n",
    "print(f\"category: \\n{df['label'].value_counts()}\")\n",
    "print(f\"category: \\n{df['source'].value_counts()}\")"
   ],
   "metadata": {
    "execution": {
     "iopub.status.busy": "2024-05-25T08:18:22.636227Z",
     "iopub.execute_input": "2024-05-25T08:18:22.636694Z",
     "iopub.status.idle": "2024-05-25T08:18:22.654233Z",
     "shell.execute_reply.started": "2024-05-25T08:18:22.636659Z",
     "shell.execute_reply": "2024-05-25T08:18:22.652723Z"
    },
    "trusted": true,
    "ExecuteTime": {
     "end_time": "2024-05-29T13:26:20.821786Z",
     "start_time": "2024-05-29T13:26:20.808787Z"
    }
   },
   "outputs": [
    {
     "name": "stdout",
     "output_type": "stream",
     "text": [
      "number of posts: 73573\n",
      "category: \n",
      "label\n",
      "1    46203\n",
      "0    27370\n",
      "Name: count, dtype: int64\n",
      "category: \n",
      "source\n",
      "persuade_corpus                           25995\n",
      "persuade_finetuned_llamas                  8306\n",
      "Mistral7B_CME_v7                           4890\n",
      "llama_falcon_v3_llama_70b                  3500\n",
      "llama_falcon_v3_falcon_180b                3493\n",
      "Intel-neural-chat-7b-v3-1_LLMEssays_v1     3309\n",
      "mistral7binstruct_v2                       2421\n",
      "chat_gpt_moth                              2421\n",
      "mistral7binstruct_v1                       2420\n",
      "llama2_chat                                2418\n",
      "kingki19_palm                              1384\n",
      "train_essays                               1378\n",
      "llama_70b_v1                               1172\n",
      "falcon_180b_v1                             1043\n",
      "nima_gpt4                                  1040\n",
      "darragh_claude_v6                          1000\n",
      "darragh_claude_v7                          1000\n",
      "text-davinci-001                            700\n",
      "text-davinci-003                            700\n",
      "text-davinci-002                            699\n",
      "text-babbage-001                            698\n",
      "text-curie-001                              696\n",
      "text-ada-001                                692\n",
      "radek_500                                   500\n",
      "NousResearch/Llama-2-7b-chat-hf             400\n",
      "mistralai/Mistral-7B-Instruct-v0.1          399\n",
      "cohere-command                              350\n",
      "palm-text-bison1                            349\n",
      "radekgpt4                                   200\n",
      "Name: count, dtype: int64\n"
     ]
    }
   ],
   "execution_count": 10
  },
  {
   "cell_type": "code",
   "source": [
    "df.drop(columns=[\"prompt_name\", \"source\",\"RDizzl3_seven\"], inplace=True)\n",
    "df.head(3)"
   ],
   "metadata": {
    "execution": {
     "iopub.status.busy": "2024-05-25T08:18:25.643899Z",
     "iopub.execute_input": "2024-05-25T08:18:25.644319Z",
     "iopub.status.idle": "2024-05-25T08:18:25.659891Z",
     "shell.execute_reply.started": "2024-05-25T08:18:25.644279Z",
     "shell.execute_reply": "2024-05-25T08:18:25.658600Z"
    },
    "trusted": true,
    "ExecuteTime": {
     "end_time": "2024-05-29T13:26:22.082006Z",
     "start_time": "2024-05-29T13:26:22.066649Z"
    }
   },
   "outputs": [
    {
     "data": {
      "text/plain": [
       "                                                text  label  model\n",
       "0  Phones\\n\\nModern humans today are always on th...      0  human\n",
       "1  This essay will explain if drivers should or s...      0  human\n",
       "2  Driving while the use of cellular devices\\n\\nT...      0  human"
      ],
      "text/html": [
       "<div>\n",
       "<style scoped>\n",
       "    .dataframe tbody tr th:only-of-type {\n",
       "        vertical-align: middle;\n",
       "    }\n",
       "\n",
       "    .dataframe tbody tr th {\n",
       "        vertical-align: top;\n",
       "    }\n",
       "\n",
       "    .dataframe thead th {\n",
       "        text-align: right;\n",
       "    }\n",
       "</style>\n",
       "<table border=\"1\" class=\"dataframe\">\n",
       "  <thead>\n",
       "    <tr style=\"text-align: right;\">\n",
       "      <th></th>\n",
       "      <th>text</th>\n",
       "      <th>label</th>\n",
       "      <th>model</th>\n",
       "    </tr>\n",
       "  </thead>\n",
       "  <tbody>\n",
       "    <tr>\n",
       "      <th>0</th>\n",
       "      <td>Phones\\n\\nModern humans today are always on th...</td>\n",
       "      <td>0</td>\n",
       "      <td>human</td>\n",
       "    </tr>\n",
       "    <tr>\n",
       "      <th>1</th>\n",
       "      <td>This essay will explain if drivers should or s...</td>\n",
       "      <td>0</td>\n",
       "      <td>human</td>\n",
       "    </tr>\n",
       "    <tr>\n",
       "      <th>2</th>\n",
       "      <td>Driving while the use of cellular devices\\n\\nT...</td>\n",
       "      <td>0</td>\n",
       "      <td>human</td>\n",
       "    </tr>\n",
       "  </tbody>\n",
       "</table>\n",
       "</div>"
      ]
     },
     "execution_count": 11,
     "metadata": {},
     "output_type": "execute_result"
    }
   ],
   "execution_count": 11
  },
  {
   "cell_type": "code",
   "source": "df.info()",
   "metadata": {
    "execution": {
     "iopub.status.busy": "2024-05-25T08:18:32.540459Z",
     "iopub.execute_input": "2024-05-25T08:18:32.541727Z",
     "iopub.status.idle": "2024-05-25T08:18:32.568244Z",
     "shell.execute_reply.started": "2024-05-25T08:18:32.541687Z",
     "shell.execute_reply": "2024-05-25T08:18:32.566972Z"
    },
    "trusted": true,
    "ExecuteTime": {
     "end_time": "2024-05-29T13:26:23.820585Z",
     "start_time": "2024-05-29T13:26:23.792494Z"
    }
   },
   "outputs": [
    {
     "name": "stdout",
     "output_type": "stream",
     "text": [
      "<class 'pandas.core.frame.DataFrame'>\n",
      "RangeIndex: 73573 entries, 0 to 73572\n",
      "Data columns (total 3 columns):\n",
      " #   Column  Non-Null Count  Dtype \n",
      "---  ------  --------------  ----- \n",
      " 0   text    73573 non-null  object\n",
      " 1   label   73573 non-null  int64 \n",
      " 2   model   73573 non-null  object\n",
      "dtypes: int64(1), object(2)\n",
      "memory usage: 1.7+ MB\n"
     ]
    }
   ],
   "execution_count": 12
  },
  {
   "cell_type": "markdown",
   "source": "## 2 分類模型的訓練流程",
   "metadata": {}
  },
  {
   "cell_type": "markdown",
   "source": "### 根據7:3的比例切分資料集\n",
   "metadata": {}
  },
  {
   "cell_type": "code",
   "source": [
    "data = df.copy()\n",
    "X = data[\"text\"]\n",
    "y = data[\"label\"]\n",
    "\n",
    "# 把整個資料集七三切\n",
    "X_train, X_test, y_train, y_test = train_test_split(\n",
    "    X, y, test_size=0.3, random_state=777\n",
    ")\n",
    "\n",
    "X_train.head()"
   ],
   "metadata": {
    "execution": {
     "iopub.status.busy": "2024-05-25T08:21:01.729610Z",
     "iopub.execute_input": "2024-05-25T08:21:01.730466Z",
     "iopub.status.idle": "2024-05-25T08:21:01.752002Z",
     "shell.execute_reply.started": "2024-05-25T08:21:01.730428Z",
     "shell.execute_reply": "2024-05-25T08:21:01.750659Z"
    },
    "trusted": true,
    "ExecuteTime": {
     "end_time": "2024-05-29T13:26:41.055532Z",
     "start_time": "2024-05-29T13:26:41.029534Z"
    }
   },
   "outputs": [
    {
     "data": {
      "text/plain": [
       "58115    The Facial Action Coding System (FACS) is a gr...\n",
       "24722    At some place like NASA, when they are buildin...\n",
       "37298     Do we choose our own character traits or is o...\n",
       "16196    Dear Principal,\\n\\nI know you mean well changi...\n",
       "71085    The author of \"The Challenge of Exploring Venu...\n",
       "Name: text, dtype: object"
      ]
     },
     "execution_count": 13,
     "metadata": {},
     "output_type": "execute_result"
    }
   ],
   "execution_count": 13
  },
  {
   "cell_type": "code",
   "source": "y_train.head()",
   "metadata": {
    "execution": {
     "iopub.status.busy": "2024-05-25T08:21:07.106336Z",
     "iopub.execute_input": "2024-05-25T08:21:07.106766Z",
     "iopub.status.idle": "2024-05-25T08:21:07.115345Z",
     "shell.execute_reply.started": "2024-05-25T08:21:07.106735Z",
     "shell.execute_reply": "2024-05-25T08:21:07.114064Z"
    },
    "trusted": true,
    "ExecuteTime": {
     "end_time": "2024-05-29T13:26:42.503942Z",
     "start_time": "2024-05-29T13:26:42.489942Z"
    }
   },
   "outputs": [
    {
     "data": {
      "text/plain": [
       "58115    1\n",
       "24722    0\n",
       "37298    1\n",
       "16196    0\n",
       "71085    1\n",
       "Name: label, dtype: int64"
      ]
     },
     "execution_count": 14,
     "metadata": {},
     "output_type": "execute_result"
    }
   ],
   "execution_count": 14
  },
  {
   "cell_type": "code",
   "source": "# 看一下各個資料集切分的比例，應該要一致\nprint(\n    f\"raw data percentage :\\n{data['label'].value_counts(normalize=True) * 100}\"\n)\nprint(f\"\\ntrain percentage :\\n{y_train.value_counts(normalize=True) * 100}\")\nprint(f\"\\ntest percentage :\\n{y_test.value_counts(normalize=True) * 100}\")",
   "metadata": {
    "execution": {
     "iopub.status.busy": "2024-05-25T08:21:57.731809Z",
     "iopub.execute_input": "2024-05-25T08:21:57.732220Z",
     "iopub.status.idle": "2024-05-25T08:21:57.747852Z",
     "shell.execute_reply.started": "2024-05-25T08:21:57.732191Z",
     "shell.execute_reply": "2024-05-25T08:21:57.746254Z"
    },
    "trusted": true,
    "ExecuteTime": {
     "end_time": "2024-05-29T13:26:43.560947Z",
     "start_time": "2024-05-29T13:26:43.547948Z"
    }
   },
   "outputs": [
    {
     "name": "stdout",
     "output_type": "stream",
     "text": [
      "raw data percentage :\n",
      "label\n",
      "1    62.798853\n",
      "0    37.201147\n",
      "Name: proportion, dtype: float64\n",
      "\n",
      "train percentage :\n",
      "label\n",
      "1    62.726937\n",
      "0    37.273063\n",
      "Name: proportion, dtype: float64\n",
      "\n",
      "test percentage :\n",
      "label\n",
      "1    62.966655\n",
      "0    37.033345\n",
      "Name: proportion, dtype: float64\n"
     ]
    }
   ],
   "execution_count": 15
  },
  {
   "cell_type": "markdown",
   "source": "### 將文章轉為 DTM",
   "metadata": {}
  },
  {
   "cell_type": "markdown",
   "source": "#### 依據詞頻 (classic BoW)",
   "metadata": {}
  },
  {
   "cell_type": "code",
   "source": "# vectorizer\nvectorizer = CountVectorizer(max_features=1000, stop_words=\"english\")\nvectorizer.fit(X_train)\nvec_train = vectorizer.transform(X_train)\nvec_test = vectorizer.transform(X_test)\n\n# classifier\nclf = LogisticRegression(max_iter=1000)\nclf.fit(vec_train, y_train)\n\ny_pred = clf.predict(vec_test)\ny_pred_proba = clf.predict_proba(vec_test)\n## Accuracy, Precision, Recall, F1-score\nprint(classification_report(y_test, y_pred))",
   "metadata": {
    "execution": {
     "iopub.status.busy": "2024-05-25T09:16:09.867172Z",
     "iopub.execute_input": "2024-05-25T09:16:09.867637Z",
     "iopub.status.idle": "2024-05-25T09:16:43.559837Z",
     "shell.execute_reply.started": "2024-05-25T09:16:09.867576Z",
     "shell.execute_reply": "2024-05-25T09:16:43.558500Z"
    },
    "trusted": true,
    "ExecuteTime": {
     "end_time": "2024-05-29T13:27:06.340751Z",
     "start_time": "2024-05-29T13:26:52.568770Z"
    }
   },
   "outputs": [
    {
     "name": "stdout",
     "output_type": "stream",
     "text": [
      "              precision    recall  f1-score   support\n",
      "\n",
      "           0       0.92      0.94      0.93      8174\n",
      "           1       0.96      0.95      0.96     13898\n",
      "\n",
      "    accuracy                           0.95     22072\n",
      "   macro avg       0.94      0.95      0.94     22072\n",
      "weighted avg       0.95      0.95      0.95     22072\n",
      "\n"
     ]
    }
   ],
   "execution_count": 16
  },
  {
   "cell_type": "markdown",
   "source": "準確率太高了，懷疑過擬合。<br>\n所以拿另外的資料判定是否為過擬合",
   "metadata": {}
  },
  {
   "cell_type": "code",
   "source": "daigt_magic_generations =pd.read_csv('/kaggle/input/daigt-v4-train-dataset/daigt_magic_generations.csv')\ndaigt_magic_generations.head(3)",
   "metadata": {
    "execution": {
     "iopub.status.busy": "2024-05-25T11:16:34.345711Z",
     "iopub.execute_input": "2024-05-25T11:16:34.346140Z",
     "iopub.status.idle": "2024-05-25T11:16:34.710667Z",
     "shell.execute_reply.started": "2024-05-25T11:16:34.346108Z",
     "shell.execute_reply": "2024-05-25T11:16:34.709252Z"
    },
    "trusted": true
   },
   "execution_count": 54,
   "outputs": [
    {
     "execution_count": 54,
     "output_type": "execute_result",
     "data": {
      "text/plain": "                                                text  label  \\\n0  Phones & Driving\\n\\nIn today's society, people...      1   \n1  Phones and Driving\\n\\nThe majority of humans o...      1   \n2  Phones & Driving\\n\\nCell phones have become a ...      1   \n\n          prompt_name                     source  RDizzl3_seven  model  \n0  Phones and driving  persuade_finetuned_llamas          False  llama  \n1  Phones and driving  persuade_finetuned_llamas          False  llama  \n2  Phones and driving  persuade_finetuned_llamas          False  llama  ",
      "text/html": "<div>\n<style scoped>\n    .dataframe tbody tr th:only-of-type {\n        vertical-align: middle;\n    }\n\n    .dataframe tbody tr th {\n        vertical-align: top;\n    }\n\n    .dataframe thead th {\n        text-align: right;\n    }\n</style>\n<table border=\"1\" class=\"dataframe\">\n  <thead>\n    <tr style=\"text-align: right;\">\n      <th></th>\n      <th>text</th>\n      <th>label</th>\n      <th>prompt_name</th>\n      <th>source</th>\n      <th>RDizzl3_seven</th>\n      <th>model</th>\n    </tr>\n  </thead>\n  <tbody>\n    <tr>\n      <th>0</th>\n      <td>Phones &amp; Driving\\n\\nIn today's society, people...</td>\n      <td>1</td>\n      <td>Phones and driving</td>\n      <td>persuade_finetuned_llamas</td>\n      <td>False</td>\n      <td>llama</td>\n    </tr>\n    <tr>\n      <th>1</th>\n      <td>Phones and Driving\\n\\nThe majority of humans o...</td>\n      <td>1</td>\n      <td>Phones and driving</td>\n      <td>persuade_finetuned_llamas</td>\n      <td>False</td>\n      <td>llama</td>\n    </tr>\n    <tr>\n      <th>2</th>\n      <td>Phones &amp; Driving\\n\\nCell phones have become a ...</td>\n      <td>1</td>\n      <td>Phones and driving</td>\n      <td>persuade_finetuned_llamas</td>\n      <td>False</td>\n      <td>llama</td>\n    </tr>\n  </tbody>\n</table>\n</div>"
     },
     "metadata": {}
    }
   ]
  },
  {
   "cell_type": "code",
   "source": "daigt_magic_generations.drop(columns=[\"prompt_name\", \"source\",\"RDizzl3_seven\", \"model\"], inplace=True)\ndaigt_magic_generations.head(3)",
   "metadata": {
    "execution": {
     "iopub.status.busy": "2024-05-25T11:17:50.593879Z",
     "iopub.execute_input": "2024-05-25T11:17:50.594989Z",
     "iopub.status.idle": "2024-05-25T11:17:50.608712Z",
     "shell.execute_reply.started": "2024-05-25T11:17:50.594949Z",
     "shell.execute_reply": "2024-05-25T11:17:50.607415Z"
    },
    "trusted": true
   },
   "execution_count": 55,
   "outputs": [
    {
     "execution_count": 55,
     "output_type": "execute_result",
     "data": {
      "text/plain": "                                                text  label\n0  Phones & Driving\\n\\nIn today's society, people...      1\n1  Phones and Driving\\n\\nThe majority of humans o...      1\n2  Phones & Driving\\n\\nCell phones have become a ...      1",
      "text/html": "<div>\n<style scoped>\n    .dataframe tbody tr th:only-of-type {\n        vertical-align: middle;\n    }\n\n    .dataframe tbody tr th {\n        vertical-align: top;\n    }\n\n    .dataframe thead th {\n        text-align: right;\n    }\n</style>\n<table border=\"1\" class=\"dataframe\">\n  <thead>\n    <tr style=\"text-align: right;\">\n      <th></th>\n      <th>text</th>\n      <th>label</th>\n    </tr>\n  </thead>\n  <tbody>\n    <tr>\n      <th>0</th>\n      <td>Phones &amp; Driving\\n\\nIn today's society, people...</td>\n      <td>1</td>\n    </tr>\n    <tr>\n      <th>1</th>\n      <td>Phones and Driving\\n\\nThe majority of humans o...</td>\n      <td>1</td>\n    </tr>\n    <tr>\n      <th>2</th>\n      <td>Phones &amp; Driving\\n\\nCell phones have become a ...</td>\n      <td>1</td>\n    </tr>\n  </tbody>\n</table>\n</div>"
     },
     "metadata": {}
    }
   ]
  },
  {
   "cell_type": "code",
   "source": "daigt_magic_generations.info()",
   "metadata": {
    "execution": {
     "iopub.status.busy": "2024-05-25T11:18:01.992610Z",
     "iopub.execute_input": "2024-05-25T11:18:01.992984Z",
     "iopub.status.idle": "2024-05-25T11:18:02.007383Z",
     "shell.execute_reply.started": "2024-05-25T11:18:01.992956Z",
     "shell.execute_reply": "2024-05-25T11:18:02.006076Z"
    },
    "trusted": true
   },
   "execution_count": 56,
   "outputs": [
    {
     "name": "stdout",
     "text": "<class 'pandas.core.frame.DataFrame'>\nRangeIndex: 8306 entries, 0 to 8305\nData columns (total 2 columns):\n #   Column  Non-Null Count  Dtype \n---  ------  --------------  ----- \n 0   text    8306 non-null   object\n 1   label   8306 non-null   int64 \ndtypes: int64(1), object(1)\nmemory usage: 129.9+ KB\n",
     "output_type": "stream"
    }
   ]
  },
  {
   "cell_type": "markdown",
   "source": "檢查有無重覆資料",
   "metadata": {}
  },
  {
   "cell_type": "code",
   "source": [
    "# 合併兩個資料集\n",
    "combined_df = pd.concat([daigt_magic_generations['text'], df['text']], axis=0)\n",
    "\n",
    "# 檢查重複資料\n",
    "duplicates = combined_df.duplicated().sum()\n",
    "\n",
    "print(f\"共有 {duplicates} 筆重複資料。\")"
   ],
   "metadata": {
    "execution": {
     "iopub.status.busy": "2024-05-25T11:18:12.303183Z",
     "iopub.execute_input": "2024-05-25T11:18:12.303630Z",
     "iopub.status.idle": "2024-05-25T11:18:12.336920Z",
     "shell.execute_reply.started": "2024-05-25T11:18:12.303598Z",
     "shell.execute_reply": "2024-05-25T11:18:12.335807Z"
    },
    "trusted": true
   },
   "execution_count": 57,
   "outputs": [
    {
     "name": "stdout",
     "text": "共有 0 筆重複資料。\n",
     "output_type": "stream"
    }
   ]
  },
  {
   "cell_type": "code",
   "source": "vec_daigt_magic_generations = vectorizer.transform(daigt_magic_generations['text'])\ndaigt_magic_generations_pred = clf.predict(vec_daigt_magic_generations)\n## Accuracy, Precision, Recall, F1-score\nprint(classification_report(daigt_magic_generations['label'], daigt_magic_generations_pred))",
   "metadata": {
    "execution": {
     "iopub.status.busy": "2024-05-25T11:18:56.212004Z",
     "iopub.execute_input": "2024-05-25T11:18:56.212449Z",
     "iopub.status.idle": "2024-05-25T11:18:58.854743Z",
     "shell.execute_reply.started": "2024-05-25T11:18:56.212413Z",
     "shell.execute_reply": "2024-05-25T11:18:58.853641Z"
    },
    "trusted": true
   },
   "execution_count": 58,
   "outputs": [
    {
     "name": "stdout",
     "text": "              precision    recall  f1-score   support\n\n           0       0.00      0.00      0.00         0\n           1       1.00      0.46      0.63      8306\n\n    accuracy                           0.46      8306\n   macro avg       0.50      0.23      0.31      8306\nweighted avg       1.00      0.46      0.63      8306\n\n",
     "output_type": "stream"
    },
    {
     "name": "stderr",
     "text": "/opt/conda/lib/python3.10/site-packages/sklearn/metrics/_classification.py:1344: UndefinedMetricWarning: Recall and F-score are ill-defined and being set to 0.0 in labels with no true samples. Use `zero_division` parameter to control this behavior.\n  _warn_prf(average, modifier, msg_start, len(result))\n/opt/conda/lib/python3.10/site-packages/sklearn/metrics/_classification.py:1344: UndefinedMetricWarning: Recall and F-score are ill-defined and being set to 0.0 in labels with no true samples. Use `zero_division` parameter to control this behavior.\n  _warn_prf(average, modifier, msg_start, len(result))\n/opt/conda/lib/python3.10/site-packages/sklearn/metrics/_classification.py:1344: UndefinedMetricWarning: Recall and F-score are ill-defined and being set to 0.0 in labels with no true samples. Use `zero_division` parameter to control this behavior.\n  _warn_prf(average, modifier, msg_start, len(result))\n",
     "output_type": "stream"
    }
   ]
  },
  {
   "cell_type": "markdown",
   "source": "結果accuracy只有0.46，所以的確是過擬合",
   "metadata": {}
  },
  {
   "cell_type": "markdown",
   "source": "增加資料",
   "metadata": {}
  },
  {
   "cell_type": "code",
   "source": "v4=pd.read_csv('/kaggle/input/daigt-v4-train-dataset/train_v4_drcat_01.csv')\nv4.head(3)",
   "metadata": {
    "execution": {
     "iopub.status.busy": "2024-05-25T11:47:39.324936Z",
     "iopub.execute_input": "2024-05-25T11:47:39.326689Z",
     "iopub.status.idle": "2024-05-25T11:47:43.164216Z",
     "shell.execute_reply.started": "2024-05-25T11:47:39.326625Z",
     "shell.execute_reply": "2024-05-25T11:47:43.163104Z"
    },
    "trusted": true
   },
   "execution_count": 4,
   "outputs": [
    {
     "execution_count": 4,
     "output_type": "execute_result",
     "data": {
      "text/plain": "                                                text  label  \\\n0  Phones\\n\\nModern humans today are always on th...      0   \n1  This essay will explain if drivers should or s...      0   \n2  Driving while the use of cellular devices\\n\\nT...      0   \n\n          prompt_name           source  RDizzl3_seven  model  \n0  Phones and driving  persuade_corpus          False  human  \n1  Phones and driving  persuade_corpus          False  human  \n2  Phones and driving  persuade_corpus          False  human  ",
      "text/html": "<div>\n<style scoped>\n    .dataframe tbody tr th:only-of-type {\n        vertical-align: middle;\n    }\n\n    .dataframe tbody tr th {\n        vertical-align: top;\n    }\n\n    .dataframe thead th {\n        text-align: right;\n    }\n</style>\n<table border=\"1\" class=\"dataframe\">\n  <thead>\n    <tr style=\"text-align: right;\">\n      <th></th>\n      <th>text</th>\n      <th>label</th>\n      <th>prompt_name</th>\n      <th>source</th>\n      <th>RDizzl3_seven</th>\n      <th>model</th>\n    </tr>\n  </thead>\n  <tbody>\n    <tr>\n      <th>0</th>\n      <td>Phones\\n\\nModern humans today are always on th...</td>\n      <td>0</td>\n      <td>Phones and driving</td>\n      <td>persuade_corpus</td>\n      <td>False</td>\n      <td>human</td>\n    </tr>\n    <tr>\n      <th>1</th>\n      <td>This essay will explain if drivers should or s...</td>\n      <td>0</td>\n      <td>Phones and driving</td>\n      <td>persuade_corpus</td>\n      <td>False</td>\n      <td>human</td>\n    </tr>\n    <tr>\n      <th>2</th>\n      <td>Driving while the use of cellular devices\\n\\nT...</td>\n      <td>0</td>\n      <td>Phones and driving</td>\n      <td>persuade_corpus</td>\n      <td>False</td>\n      <td>human</td>\n    </tr>\n  </tbody>\n</table>\n</div>"
     },
     "metadata": {}
    }
   ]
  },
  {
   "cell_type": "code",
   "source": "# 看看有幾篇文章\nprint(f\"number of posts: {v4.shape[0]}\")\n# 1 for AI generated, 0 for human\nprint(f\"category: \\n{v4['label'].value_counts()}\")\nprint(f\"category: \\n{v4['source'].value_counts()}\")",
   "metadata": {
    "execution": {
     "iopub.status.busy": "2024-05-25T11:23:36.003689Z",
     "iopub.execute_input": "2024-05-25T11:23:36.004104Z",
     "iopub.status.idle": "2024-05-25T11:23:36.025427Z",
     "shell.execute_reply.started": "2024-05-25T11:23:36.004072Z",
     "shell.execute_reply": "2024-05-25T11:23:36.024256Z"
    },
    "trusted": true
   },
   "execution_count": 60,
   "outputs": [
    {
     "name": "stdout",
     "text": "number of posts: 73573\ncategory: \nlabel\n1    46203\n0    27370\nName: count, dtype: int64\ncategory: \nsource\npersuade_corpus                           25995\npersuade_finetuned_llamas                  8306\nMistral7B_CME_v7                           4890\nllama_falcon_v3_llama_70b                  3500\nllama_falcon_v3_falcon_180b                3493\nIntel-neural-chat-7b-v3-1_LLMEssays_v1     3309\nmistral7binstruct_v2                       2421\nchat_gpt_moth                              2421\nmistral7binstruct_v1                       2420\nllama2_chat                                2418\nkingki19_palm                              1384\ntrain_essays                               1378\nllama_70b_v1                               1172\nfalcon_180b_v1                             1043\nnima_gpt4                                  1040\ndarragh_claude_v6                          1000\ndarragh_claude_v7                          1000\ntext-davinci-001                            700\ntext-davinci-003                            700\ntext-davinci-002                            699\ntext-babbage-001                            698\ntext-curie-001                              696\ntext-ada-001                                692\nradek_500                                   500\nNousResearch/Llama-2-7b-chat-hf             400\nmistralai/Mistral-7B-Instruct-v0.1          399\ncohere-command                              350\npalm-text-bison1                            349\nradekgpt4                                   200\nName: count, dtype: int64\n",
     "output_type": "stream"
    }
   ]
  },
  {
   "cell_type": "code",
   "source": "v4.drop(columns=[\"prompt_name\", \"source\",\"RDizzl3_seven\", \"model\"], inplace=True)\nv4.head(3)",
   "metadata": {
    "execution": {
     "iopub.status.busy": "2024-05-25T11:47:48.276379Z",
     "iopub.execute_input": "2024-05-25T11:47:48.276842Z",
     "iopub.status.idle": "2024-05-25T11:47:48.301837Z",
     "shell.execute_reply.started": "2024-05-25T11:47:48.276809Z",
     "shell.execute_reply": "2024-05-25T11:47:48.300634Z"
    },
    "trusted": true
   },
   "execution_count": 5,
   "outputs": [
    {
     "execution_count": 5,
     "output_type": "execute_result",
     "data": {
      "text/plain": "                                                text  label\n0  Phones\\n\\nModern humans today are always on th...      0\n1  This essay will explain if drivers should or s...      0\n2  Driving while the use of cellular devices\\n\\nT...      0",
      "text/html": "<div>\n<style scoped>\n    .dataframe tbody tr th:only-of-type {\n        vertical-align: middle;\n    }\n\n    .dataframe tbody tr th {\n        vertical-align: top;\n    }\n\n    .dataframe thead th {\n        text-align: right;\n    }\n</style>\n<table border=\"1\" class=\"dataframe\">\n  <thead>\n    <tr style=\"text-align: right;\">\n      <th></th>\n      <th>text</th>\n      <th>label</th>\n    </tr>\n  </thead>\n  <tbody>\n    <tr>\n      <th>0</th>\n      <td>Phones\\n\\nModern humans today are always on th...</td>\n      <td>0</td>\n    </tr>\n    <tr>\n      <th>1</th>\n      <td>This essay will explain if drivers should or s...</td>\n      <td>0</td>\n    </tr>\n    <tr>\n      <th>2</th>\n      <td>Driving while the use of cellular devices\\n\\nT...</td>\n      <td>0</td>\n    </tr>\n  </tbody>\n</table>\n</div>"
     },
     "metadata": {}
    }
   ]
  },
  {
   "cell_type": "code",
   "source": "v4.info()",
   "metadata": {
    "execution": {
     "iopub.status.busy": "2024-05-25T11:25:06.777130Z",
     "iopub.execute_input": "2024-05-25T11:25:06.777545Z",
     "iopub.status.idle": "2024-05-25T11:25:06.802430Z",
     "shell.execute_reply.started": "2024-05-25T11:25:06.777509Z",
     "shell.execute_reply": "2024-05-25T11:25:06.800885Z"
    },
    "trusted": true
   },
   "execution_count": 63,
   "outputs": [
    {
     "name": "stdout",
     "text": "<class 'pandas.core.frame.DataFrame'>\nRangeIndex: 73573 entries, 0 to 73572\nData columns (total 2 columns):\n #   Column  Non-Null Count  Dtype \n---  ------  --------------  ----- \n 0   text    73573 non-null  object\n 1   label   73573 non-null  int64 \ndtypes: int64(1), object(1)\nmemory usage: 1.1+ MB\n",
     "output_type": "stream"
    }
   ]
  },
  {
   "cell_type": "code",
   "source": "data = v4.copy()\nX = data[\"text\"]\ny = data[\"label\"]\n\n# 把整個資料集七三切\nX_train, X_test, y_train, y_test = train_test_split(\n    X, y, test_size=0.3, random_state=777\n)\n\nX_train.head()",
   "metadata": {
    "execution": {
     "iopub.status.busy": "2024-05-25T11:47:51.730744Z",
     "iopub.execute_input": "2024-05-25T11:47:51.731275Z",
     "iopub.status.idle": "2024-05-25T11:47:51.757792Z",
     "shell.execute_reply.started": "2024-05-25T11:47:51.731242Z",
     "shell.execute_reply": "2024-05-25T11:47:51.756619Z"
    },
    "trusted": true
   },
   "execution_count": 6,
   "outputs": [
    {
     "execution_count": 6,
     "output_type": "execute_result",
     "data": {
      "text/plain": "58115    The Facial Action Coding System (FACS) is a gr...\n24722    At some place like NASA, when they are buildin...\n37298     Do we choose our own character traits or is o...\n16196    Dear Principal,\\n\\nI know you mean well changi...\n71085    The author of \"The Challenge of Exploring Venu...\nName: text, dtype: object"
     },
     "metadata": {}
    }
   ]
  },
  {
   "cell_type": "code",
   "source": "# 看一下各個資料集切分的比例，應該要一致\nprint(\n    f\"raw data percentage :\\n{data['label'].value_counts(normalize=True) * 100}\"\n)\nprint(f\"\\ntrain percentage :\\n{y_train.value_counts(normalize=True) * 100}\")\nprint(f\"\\ntest percentage :\\n{y_test.value_counts(normalize=True) * 100}\")",
   "metadata": {
    "execution": {
     "iopub.status.busy": "2024-05-25T11:25:43.487670Z",
     "iopub.execute_input": "2024-05-25T11:25:43.488098Z",
     "iopub.status.idle": "2024-05-25T11:25:43.500879Z",
     "shell.execute_reply.started": "2024-05-25T11:25:43.488065Z",
     "shell.execute_reply": "2024-05-25T11:25:43.499679Z"
    },
    "trusted": true
   },
   "execution_count": 65,
   "outputs": [
    {
     "name": "stdout",
     "text": "raw data percentage :\nlabel\n1    62.798853\n0    37.201147\nName: proportion, dtype: float64\n\ntrain percentage :\nlabel\n1    62.726937\n0    37.273063\nName: proportion, dtype: float64\n\ntest percentage :\nlabel\n1    62.966655\n0    37.033345\nName: proportion, dtype: float64\n",
     "output_type": "stream"
    }
   ]
  },
  {
   "cell_type": "code",
   "source": "# vectorizer\nvectorizer = CountVectorizer(max_features=10000, stop_words=\"english\")\nvectorizer.fit(X_train)\nvec_train = vectorizer.transform(X_train)\nvec_test = vectorizer.transform(X_test)\n\n# classifier\nclf = LogisticRegression(max_iter=1000)\nclf.fit(vec_train, y_train)\n\ny_pred = clf.predict(vec_test)\ny_pred_proba = clf.predict_proba(vec_test)\n## Accuracy, Precision, Recall, F1-score\nprint(classification_report(y_test, y_pred))",
   "metadata": {
    "execution": {
     "iopub.status.busy": "2024-05-25T11:26:49.763001Z",
     "iopub.execute_input": "2024-05-25T11:26:49.763415Z",
     "iopub.status.idle": "2024-05-25T11:28:17.696308Z",
     "shell.execute_reply.started": "2024-05-25T11:26:49.763383Z",
     "shell.execute_reply": "2024-05-25T11:28:17.695214Z"
    },
    "trusted": true
   },
   "execution_count": 67,
   "outputs": [
    {
     "name": "stdout",
     "text": "              precision    recall  f1-score   support\n\n           0       0.95      0.95      0.95      8174\n           1       0.97      0.97      0.97     13898\n\n    accuracy                           0.96     22072\n   macro avg       0.96      0.96      0.96     22072\nweighted avg       0.96      0.96      0.96     22072\n\n",
     "output_type": "stream"
    }
   ]
  },
  {
   "cell_type": "markdown",
   "source": "準確率還是很高，但正常一點了。",
   "metadata": {}
  },
  {
   "cell_type": "markdown",
   "source": "### tfidf",
   "metadata": {}
  },
  {
   "cell_type": "code",
   "source": "vectorizer = TfidfVectorizer(max_features=1000, stop_words=\"english\")\nvec_train = vectorizer.fit_transform(X_train)\nvec_test = vectorizer.transform(X_test)\n\nclf.fit(vec_train, y_train)\ny_pred = clf.predict(vec_test)\ny_pred_proba = clf.predict_proba(vec_test)\n\n# results\n## Accuracy, Precision, Recall, F1-score\nprint(classification_report(y_test, y_pred))",
   "metadata": {
    "execution": {
     "iopub.status.busy": "2024-05-25T11:31:09.411267Z",
     "iopub.execute_input": "2024-05-25T11:31:09.411737Z",
     "iopub.status.idle": "2024-05-25T11:31:41.066028Z",
     "shell.execute_reply.started": "2024-05-25T11:31:09.411703Z",
     "shell.execute_reply": "2024-05-25T11:31:41.064435Z"
    },
    "trusted": true
   },
   "execution_count": 69,
   "outputs": [
    {
     "name": "stdout",
     "text": "              precision    recall  f1-score   support\n\n           0       0.91      0.94      0.92      8174\n           1       0.97      0.94      0.95     13898\n\n    accuracy                           0.94     22072\n   macro avg       0.94      0.94      0.94     22072\nweighted avg       0.94      0.94      0.94     22072\n\n",
     "output_type": "stream"
    }
   ]
  },
  {
   "cell_type": "markdown",
   "source": "### cross validation",
   "metadata": {}
  },
  {
   "cell_type": "code",
   "source": "# 定義模型訓練組合\n## pipeline: 資料處理 vectorizer + 分類器 clf\n## 由於 cross-validation 會自動將資料分成 train/test，因此 input 只要給 X, y 即可\n\ndef train_cv(vectorizer, clf, X, y):\n\n    ## train classifier\n    vec_X = vectorizer.fit_transform(X).toarray()\n    \n    ## get cv results\n    cv_results = cross_validate(clf, vec_X, y, cv=5, return_estimator=True)\n    y_pred = cross_val_predict(clf, vec_X, y, cv=5)\n    y_pred_proba = cross_val_predict(clf, vec_X, y, cv=5, method=\"predict_proba\")\n\n    # one-hot encoding\n    enc = OneHotEncoder(sparse_output=False)\n    enc.fit(y.values.reshape(-1, 1))\n    \n    ## Accuracy, Precision, Recall, F1-score\n    cls_report = classification_report(y, y_pred, output_dict=True)\n    print(classification_report(y, y_pred))\n\n    classes = cv_results['estimator'][0].classes_\n    \n    ## Plot confusion matrix\n    cm = confusion_matrix(y, y_pred)\n    fig, ax = plt.subplots()\n    sns.heatmap(cm, annot=True, fmt=\"d\", ax=ax, cmap=plt.cm.Blues, cbar=False)\n    ax.set(\n        xlabel=\"Pred\",\n        ylabel=\"True\",\n        xticklabels=classes,\n        yticklabels=classes,\n        title=\"Confusion matrix\",\n    )\n    plt.yticks(rotation=0)\n\n    clf.fit(vec_X, y)\n    # return the model object\n    return cls_report\n\nvectorizer = CountVectorizer(max_features=1000, stop_words=\"english\")\nclf = LogisticRegression(max_iter=1000)\nresult = train_cv(vectorizer, clf, X_train, y_train)",
   "metadata": {
    "execution": {
     "iopub.status.busy": "2024-05-25T11:49:16.862365Z",
     "iopub.execute_input": "2024-05-25T11:49:16.862979Z",
     "iopub.status.idle": "2024-05-25T11:49:16.875467Z",
     "shell.execute_reply.started": "2024-05-25T11:49:16.862940Z",
     "shell.execute_reply": "2024-05-25T11:49:16.874103Z"
    },
    "trusted": true
   },
   "execution_count": 9,
   "outputs": []
  },
  {
   "cell_type": "markdown",
   "source": "## 3 比較不同模型的效果",
   "metadata": {}
  },
  {
   "cell_type": "code",
   "source": [
    "# 準備訓練資料\n",
    "X = data[\"text\"]\n",
    "y = data[\"label\"]\n",
    "\n",
    "# 把整個資料集七三切\n",
    "X_train, X_test, y_train, y_test = train_test_split(\n",
    "    X, y, test_size=0.3, random_state=777\n",
    ")\n",
    "\n",
    "# 定義模型訓練組合\n",
    "model_set = dict()\n",
    "model_set['clf_logistic'] = LogisticRegression(max_iter=1000)\n",
    "model_set['clf_dtree'] = DecisionTreeClassifier()\n",
    "model_set['clf_svm'] = svm.SVC(probability=True) # 要使用SVM的predict_proba的話，必須在叫出SVC的時候就將probability設為True\n",
    "model_set['clf_rf'] = RandomForestClassifier()\n",
    "\n",
    "# 定義 vectorizer\n",
    "vectorizer = CountVectorizer(max_features=1000, stop_words=\"english\")\n",
    "\n",
    "# 存結果\n",
    "result_set = dict()\n",
    "\n",
    "for k, model in model_set.items():\n",
    "    print(\"=\"*100)\n",
    "    print(f\"now training: {k}\")\n",
    "    result_set[k] = train_cv(vectorizer, model, X_train, y_train)\n",
    "    print(\"=\"*100)"
   ],
   "metadata": {
    "execution": {
     "iopub.status.busy": "2024-05-25T11:49:25.360720Z",
     "iopub.execute_input": "2024-05-25T11:49:25.361226Z"
    },
    "trusted": true
   },
   "execution_count": null,
   "outputs": [
    {
     "name": "stdout",
     "text": "====================================================================================================\nnow training: clf_logistic\n              precision    recall  f1-score   support\n\n           0       0.92      0.94      0.93     19196\n           1       0.96      0.95      0.96     32305\n\n    accuracy                           0.94     51501\n   macro avg       0.94      0.94      0.94     51501\nweighted avg       0.94      0.94      0.94     51501\n\n====================================================================================================\n====================================================================================================\nnow training: clf_dtree\n              precision    recall  f1-score   support\n\n           0       0.81      0.81      0.81     19196\n           1       0.89      0.89      0.89     32305\n\n    accuracy                           0.86     51501\n   macro avg       0.85      0.85      0.85     51501\nweighted avg       0.86      0.86      0.86     51501\n\n====================================================================================================\n====================================================================================================\nnow training: clf_rf\n",
     "output_type": "stream"
    }
   ]
  },
  {
   "cell_type": "code",
   "source": "max = 0\nbest_model_name = \"\"\nbest_model_metric = \"f1-score\"\n\n## choose max f1-score model from result_set\nfor k, v in result_set.items():\n    if v['weighted avg'][best_model_metric] > max:\n        max = v['weighted avg'][best_model_metric]\n        best_model_name = k\nprint(f\"best model: {best_model_name}\")",
   "metadata": {},
   "execution_count": null,
   "outputs": []
  },
  {
   "cell_type": "code",
   "source": "y_pred = model_set['clf_logistic'].predict(vectorizer.transform(X_test))\nprint(classification_report(y_test, y_pred))",
   "metadata": {},
   "execution_count": null,
   "outputs": []
  },
  {
   "cell_type": "markdown",
   "source": "## 4 分析可解釋模型的結果",
   "metadata": {}
  },
  {
   "cell_type": "code",
   "source": "def plot_coef(logistic_reg_model, feature_names, top_n=10):\n    # 選出某個類別的前10大影響力字詞\n    log_odds = logistic_reg_model.coef_.T\n    coef_df = pd.DataFrame(\n        log_odds, \n        columns=logistic_reg_model.classes_[[1]], index=feature_names\n    )\n    for label in coef_df.columns:\n        select_words = (\n            coef_df[[label]]\n            .sort_values(by=label, ascending=False)\n            .iloc[np.r_[0:top_n, -top_n:0]]\n        )\n        word = select_words.index\n        count = select_words[label]\n        category_colors = np.where(\n            select_words[label] >= 0, \"darkseagreen\", \"rosybrown\"\n        )  # 設定顏色\n\n        fig, ax = plt.subplots(figsize=(8, top_n*0.8))  # 設定畫布\n        plt.rcParams[\"axes.unicode_minus\"] = False\n\n        ax.barh(word, count, color=category_colors)\n        ax.invert_yaxis()\n        ax.set_title(\n            \"Coeff increase/decrease odds ratio of \" + label + \" label the most\",\n            loc=\"left\",\n            size=16,\n        )\n        ax.set_ylabel(\"word\", size=14)\n        ax.set_xlabel(\"Word Frequency\", size=14)\n\n# plot logistic model\nplot_coef(logistic_reg_model=model_set['clf_logistic'], feature_names=vectorizer.get_feature_names_out(), top_n=10)",
   "metadata": {},
   "execution_count": null,
   "outputs": []
  }
 ]
}
